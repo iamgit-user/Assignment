{
 "cells": [
  {
   "cell_type": "markdown",
   "id": "fcfeeb5f",
   "metadata": {},
   "source": [
    "# Data Science Tools and Ecosystem #"
   ]
  },
  {
   "cell_type": "markdown",
   "id": "93512cc2",
   "metadata": {},
   "source": [
    "## In this notebook, Data Science Tools and Ecosystem are summarized. ##"
   ]
  },
  {
   "cell_type": "markdown",
   "id": "2845cf73",
   "metadata": {},
   "source": [
    "## Some of the popular languages that Data Scientists use are: \n",
    "     1. R\n",
    "     2. Python\n",
    "     3. SQL\n",
    "     4. Javascript\n",
    "     5. Java"
   ]
  },
  {
   "cell_type": "markdown",
   "id": "6e9f0268",
   "metadata": {},
   "source": [
    "## Some of the commonly used libraries used by Data Scientists include:\n",
    "    1. Pandas\n",
    "    2. Numpy\n",
    "    3. dplyr\n",
    "    4. caret\n",
    "    5. Tensorflow\n",
    "    6. Matplotlib"
   ]
  },
  {
   "cell_type": "markdown",
   "id": "dc19d90e",
   "metadata": {},
   "source": [
    "## Data Science Tools:\n",
    "   * Jupyter notebook\n",
    "   * Jupyterlab\n",
    "   * R studio"
   ]
  },
  {
   "cell_type": "markdown",
   "id": "1102e37c",
   "metadata": {},
   "source": [
    "### Below are a few examples of evaluating arithmetic expressions in Python:"
   ]
  },
  {
   "cell_type": "code",
   "execution_count": 1,
   "id": "81fb7f63",
   "metadata": {},
   "outputs": [
    {
     "data": {
      "text/plain": [
       "17"
      ]
     },
     "execution_count": 1,
     "metadata": {},
     "output_type": "execute_result"
    }
   ],
   "source": [
    "(3*4)+5\n",
    "##This a simple arithmetic expression to mutiply then add integers"
   ]
  },
  {
   "cell_type": "code",
   "execution_count": 2,
   "id": "5519b73f",
   "metadata": {},
   "outputs": [
    {
     "data": {
      "text/plain": [
       "3.3333333333333335"
      ]
     },
     "execution_count": 2,
     "metadata": {},
     "output_type": "execute_result"
    }
   ],
   "source": [
    "200/60\n",
    "##This will convert 200 minutes to hours"
   ]
  },
  {
   "cell_type": "markdown",
   "id": "5040768d",
   "metadata": {},
   "source": [
    "**Objectives:**\n",
    "  * Some popular languages used in data science\n",
    "  * Commonly used labraries by data scientist\n",
    "  * Tools used in data science\n",
    "  * Evalution of some airthematic expressions"
   ]
  },
  {
   "cell_type": "markdown",
   "id": "1f0cd8f7",
   "metadata": {},
   "source": [
    "## Author\n",
    "   Pranav kumar"
   ]
  },
  {
   "cell_type": "code",
   "execution_count": null,
   "id": "21e3db9d",
   "metadata": {},
   "outputs": [],
   "source": []
  }
 ],
 "metadata": {
  "kernelspec": {
   "display_name": "Python 3 (ipykernel)",
   "language": "python",
   "name": "python3"
  },
  "language_info": {
   "codemirror_mode": {
    "name": "ipython",
    "version": 3
   },
   "file_extension": ".py",
   "mimetype": "text/x-python",
   "name": "python",
   "nbconvert_exporter": "python",
   "pygments_lexer": "ipython3",
   "version": "3.11.3"
  }
 },
 "nbformat": 4,
 "nbformat_minor": 5
}
